{
 "cells": [
  {
   "cell_type": "code",
   "execution_count": 5,
   "id": "4c71d0b4",
   "metadata": {},
   "outputs": [
    {
     "ename": "TypeError",
     "evalue": "plot_xy() takes 0 positional arguments but 2 were given",
     "output_type": "error",
     "traceback": [
      "\u001b[0;31m---------------------------------------------------------------------------\u001b[0m",
      "\u001b[0;31mTypeError\u001b[0m                                 Traceback (most recent call last)",
      "Cell \u001b[0;32mIn[5], line 4\u001b[0m\n\u001b[1;32m      2\u001b[0m \u001b[38;5;28;01mfrom\u001b[39;00m \u001b[38;5;21;01mprojectile_package\u001b[39;00m\u001b[38;5;21;01m.\u001b[39;00m\u001b[38;5;21;01mprojectile_plot\u001b[39;00m \u001b[38;5;28;01mimport\u001b[39;00m plot_xy\n\u001b[1;32m      3\u001b[0m time, x_coord, height, velocity_x, velocity_y \u001b[38;5;241m=\u001b[39m flying_mass(start_velocity_x\u001b[38;5;241m=\u001b[39m\u001b[38;5;241m10\u001b[39m, start_velocity_y\u001b[38;5;241m=\u001b[39m\u001b[38;5;241m10\u001b[39m, k\u001b[38;5;241m=\u001b[39m\u001b[38;5;241m0.035\u001b[39m, mass\u001b[38;5;241m=\u001b[39m\u001b[38;5;241m1.0\u001b[39m)\n\u001b[0;32m----> 4\u001b[0m plot_xy(x_coord, height)\n",
      "\u001b[0;31mTypeError\u001b[0m: plot_xy() takes 0 positional arguments but 2 were given"
     ]
    }
   ],
   "source": [
    "import matplotlib.pyplot as plt\n",
    "\n",
    "from projectile_package.projectile import flying_mass\n",
    "from projectile_package.projectile_plot import plot_xy\n",
    "time, x_coord, height, velocity_x, velocity_y = flying_mass(start_velocity_x=10, start_velocity_y=10, k=0.035, mass=1.0)\n",
    "plot_xy(x_coord, height)"
   ]
  },
  {
   "cell_type": "code",
   "execution_count": null,
   "id": "e39c3132",
   "metadata": {},
   "outputs": [],
   "source": []
  },
  {
   "cell_type": "code",
   "execution_count": null,
   "id": "bc9f21c8",
   "metadata": {},
   "outputs": [],
   "source": []
  },
  {
   "cell_type": "code",
   "execution_count": null,
   "id": "7cbd7021",
   "metadata": {},
   "outputs": [],
   "source": []
  },
  {
   "cell_type": "code",
   "execution_count": null,
   "id": "b5d78ff7",
   "metadata": {},
   "outputs": [],
   "source": []
  },
  {
   "cell_type": "code",
   "execution_count": null,
   "id": "9e4a5b5b",
   "metadata": {},
   "outputs": [],
   "source": []
  }
 ],
 "metadata": {
  "kernelspec": {
   "display_name": "Python 3 (ipykernel)",
   "language": "python",
   "name": "python3"
  },
  "language_info": {
   "codemirror_mode": {
    "name": "ipython",
    "version": 3
   },
   "file_extension": ".py",
   "mimetype": "text/x-python",
   "name": "python",
   "nbconvert_exporter": "python",
   "pygments_lexer": "ipython3",
   "version": "3.11.4"
  }
 },
 "nbformat": 4,
 "nbformat_minor": 5
}
